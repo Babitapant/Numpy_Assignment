{
 "cells": [
  {
   "cell_type": "code",
   "execution_count": 2,
   "metadata": {},
   "outputs": [],
   "source": [
    "import pandas as pd\n",
    "import numpy as np"
   ]
  },
  {
   "cell_type": "markdown",
   "metadata": {},
   "source": [
    "# Problem Statement 1: \n",
    "Write a function so that the columns of the output matrix are powers of the input vector. \n",
    "The order of the powers is determined by the increasing boolean argument. Specifically, when  increasing is False, the i-th output column is the input vector raised element-wise to the power  of N - i - 1. \n",
    "\n",
    "HINT: Such a matrix with a geometric progression in each row is named for Alexandre Theophile Vandermonde. \n"
   ]
  },
  {
   "cell_type": "code",
   "execution_count": 3,
   "metadata": {},
   "outputs": [
    {
     "name": "stdout",
     "output_type": "stream",
     "text": [
      "\n",
      " A array: [1 2 3 4 5] \n",
      "\n",
      "\n",
      " Number of columns in output matrix should be: 4\n",
      "\n",
      " Vander matrix of the input array in decreasing order of powers:\n",
      " [[  1   1   1   1]\n",
      " [  8   4   2   1]\n",
      " [ 27   9   3   1]\n",
      " [ 64  16   4   1]\n",
      " [125  25   5   1]]\n",
      "\n",
      " Vander matrix of the input array in Increasing order of powers:\n",
      " [[  1   1   1   1]\n",
      " [  1   2   4   8]\n",
      " [  1   3   9  27]\n",
      " [  1   4  16  64]\n",
      " [  1   5  25 125]]\n"
     ]
    }
   ],
   "source": [
    "#Alexandre Theophile Vandermode\n",
    "#creating a matrix using Vandermode method\n",
    "Matrix= np.array([1,2,3,4,5])\n",
    "n= 4\n",
    "vander = np.vander(Matrix,n, increasing= False)\n",
    "vander_a = np.vander(Matrix,n, increasing= True)\n",
    "print(\"\\n A array:\", Matrix, \"\\n\")\n",
    "print(\"\\n Number of columns in output matrix should be: 4\")\n",
    "print(\"\\n Vander matrix of the input array in decreasing order of powers:\\n\", vander)\n",
    "print(\"\\n Vander matrix of the input array in Increasing order of powers:\\n\", vander_a)\n",
    "\n"
   ]
  },
  {
   "cell_type": "code",
   "execution_count": 4,
   "metadata": {},
   "outputs": [
    {
     "name": "stdout",
     "output_type": "stream",
     "text": [
      "\n",
      " A Array: [1 2 3 4 5]\n",
      "\n",
      " Number of column in a array: 3\n",
      "\n",
      " Output of the column_stack array in decreasing oder of powers:\n",
      " [[ 1  1  1]\n",
      " [ 4  2  1]\n",
      " [ 9  3  1]\n",
      " [16  4  1]\n",
      " [25  5  1]]\n"
     ]
    }
   ],
   "source": [
    "#creating a matrix by using column stack method\n",
    "a= np.array([1,2,3,4,5])\n",
    "Y= 3\n",
    "output= np.column_stack([a**(Y-1-i) for i in range(Y)])\n",
    "print(\"\\n A Array:\", a)\n",
    "print(\"\\n Number of column in a array:\", Y)\n",
    "print(\"\\n Output of the column_stack array in decreasing oder of powers:\\n\", output)"
   ]
  },
  {
   "cell_type": "markdown",
   "metadata": {},
   "source": [
    "# Problem Statement 2: \n",
    "Given a sequence of n values x1, x2, ..., xn and a window size k>0, the k-th moving average of  the given sequence is defined as follows: \n",
    "The moving average sequence has n-k+1 elements as shown below. \n",
    "The moving averages with k=4 of a ten-value sequence (n=10) is shown below \n",
    "i 1 2 3 4 5 6 7 8 9 10 \n",
    "===== == == == == == == == == == == \n",
    "Input 10 20 30 40 50 60 70 80 90 100  \n",
    "y1 25 = (10+20+30+40)/4 \n",
    "y2 35 = (20+30+40+50)/4 \n",
    "y3 45 = (30+40+50+60)/4 \n",
    "y4 55 = (40+50+60+70)/4 \n",
    "y5 65 = (50+60+70+80)/4 \n",
    "y6 75 = (60+70+80+90)/4 \n",
    "y7 85 = (70+80+90+100)/4 \n",
    "Thus, the moving average sequence has n-k+1=10-4+1=7 values.\n",
    "Question: Write a function to find moving average in an array over a window:  Test it over [3, 5, 7, 2, 8, 10, 11, 65, 72, 81, 99, 100, 150] and window of 3. "
   ]
  },
  {
   "cell_type": "code",
   "execution_count": null,
   "metadata": {},
   "outputs": [],
   "source": []
  },
  {
   "cell_type": "code",
   "execution_count": 17,
   "metadata": {},
   "outputs": [
    {
     "name": "stdout",
     "output_type": "stream",
     "text": [
      "\n",
      " Data for moving average: [3, 5, 7, 2, 8, 10, 11, 65, 72, 81, 99, 100, 150]\n",
      "\n",
      " cumulative sum of data: [  3   8  15  14  17  20  29  86 148 218 252 280 349]\n",
      "\n",
      " moving average: [  5.           4.66666667   5.66666667   6.66666667   9.66666667\n",
      "  28.66666667  49.33333333  72.66666667  84.          93.33333333\n",
      " 116.33333333]\n"
     ]
    }
   ],
   "source": [
    "#Finding Moving Average\n",
    "def moving_average(a, n=3):\n",
    "    cumsum= np.cumsum(a, dtype = float)\n",
    "    cumsum[n:]= cumsum[n:]-cumsum[:-n]\n",
    "    return cumsum[n-1:]/n\n",
    "a= [3, 5, 7, 2, 8, 10, 11, 65, 72, 81, 99, 100, 150]\n",
    "\n",
    "print('\\n Data for moving average:', a)\n",
    "print(\"\\n cumulative sum of data:\", cumsum)\n",
    "print(\"\\n moving average:\", moving_average(a, n=3))"
   ]
  },
  {
   "cell_type": "code",
   "execution_count": null,
   "metadata": {},
   "outputs": [],
   "source": []
  }
 ],
 "metadata": {
  "kernelspec": {
   "display_name": "Python 3",
   "language": "python",
   "name": "python3"
  },
  "language_info": {
   "codemirror_mode": {
    "name": "ipython",
    "version": 3
   },
   "file_extension": ".py",
   "mimetype": "text/x-python",
   "name": "python",
   "nbconvert_exporter": "python",
   "pygments_lexer": "ipython3",
   "version": "3.7.6"
  }
 },
 "nbformat": 4,
 "nbformat_minor": 4
}
